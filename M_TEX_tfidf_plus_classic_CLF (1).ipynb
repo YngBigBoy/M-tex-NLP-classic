{
 "cells": [
  {
   "cell_type": "code",
   "execution_count": 1,
   "id": "ab925762-c3df-4496-aba5-b2b3b5648f28",
   "metadata": {},
   "outputs": [
    {
     "name": "stderr",
     "output_type": "stream",
     "text": [
      "[nltk_data] Downloading package stopwords to\n",
      "[nltk_data]     C:\\Users\\yngbb\\AppData\\Roaming\\nltk_data...\n",
      "[nltk_data]   Package stopwords is already up-to-date!\n",
      "[nltk_data] Downloading package punkt to\n",
      "[nltk_data]     C:\\Users\\yngbb\\AppData\\Roaming\\nltk_data...\n",
      "[nltk_data]   Package punkt is already up-to-date!\n"
     ]
    }
   ],
   "source": [
    "#тут все библеотеки и нужные для подгрзки вещи \n",
    "\n",
    "#Полезные вещи \n",
    "import pandas as pd\n",
    "import matplotlib.pyplot as plt\n",
    "#Прогресс-бар\n",
    "from tqdm.auto import tqdm\n",
    "tqdm.pandas()\n",
    "\n",
    "#Все для подготовки\n",
    "from Stemmer import Stemmer\n",
    "from pymorphy2 import MorphAnalyzer\n",
    "import nltk\n",
    "from nltk.corpus import stopwords\n",
    "from nltk.tokenize import word_tokenize\n",
    "import re\n",
    "nltk.download('stopwords') \n",
    "nltk.download('punkt')\n",
    "\n",
    "#Все для обучения\n",
    "from sklearn.feature_extraction.text import TfidfVectorizer\n",
    "from sklearn.linear_model import SGDClassifier\n",
    "from sklearn.ensemble import RandomForestClassifier\n",
    "from sklearn.neighbors import KNeighborsClassifier\n",
    "from sklearn.pipeline import Pipeline, make_pipeline\n",
    "from sklearn.metrics import (\n",
    "    ConfusionMatrixDisplay, confusion_matrix,\n",
    "    f1_score, roc_auc_score,\n",
    "    classification_report, make_scorer\n",
    ")\n",
    "from sklearn.model_selection import GridSearchCV\n",
    "from sklearn.model_selection import train_test_split\n",
    "from imblearn.under_sampling import NearMiss \n",
    "import pickle"
   ]
  },
  {
   "cell_type": "code",
   "execution_count": 2,
   "id": "fb15c24f-4b8a-4aba-b0fa-552aced2eb5a",
   "metadata": {},
   "outputs": [],
   "source": [
    "raw_data = pd.read_excel(\"М.Тех_ТЗ_Датасет_DS_NLP.xlsx\", index_col=0) #подгружаем данные \n",
    "#Приписываем лейблы к классам\n",
    "labels = dict(enumerate(map(str, raw_data['class'].unique()))) \n",
    "labels_inv = {value: key for key, value in labels.items()}\n",
    "raw_data['labels'] = raw_data['class'].map(labels_inv)"
   ]
  },
  {
   "cell_type": "code",
   "execution_count": 3,
   "id": "4d7ec8c5-a853-4cb1-9db0-138e1557bde6",
   "metadata": {},
   "outputs": [
    {
     "data": {
      "text/plain": [
       "{0: 'Консультация КЦ',\n",
       " 1: 'Компетентность продавцов/ консультантов',\n",
       " 2: 'Электронная очередь',\n",
       " 3: 'Доступность персонала в магазине',\n",
       " 4: 'Вежливость сотрудников магазина',\n",
       " 5: 'Обслуживание на кассе',\n",
       " 6: 'Обслуживание продавцами/ консультантами',\n",
       " 7: 'Время ожидания у кассы'}"
      ]
     },
     "execution_count": 3,
     "metadata": {},
     "output_type": "execute_result"
    }
   ],
   "source": [
    "labels"
   ]
  },
  {
   "cell_type": "code",
   "execution_count": 27,
   "id": "a1c55d18-dd06-4221-8492-b21912463daf",
   "metadata": {},
   "outputs": [],
   "source": [
    "#Отчищаем текст и лемматизируем его для последующего обучения\n",
    "\n",
    "patterns = \"[A-Za-z0-9!#$%&'()*+,./:;<=>?@[\\]^_`{|}~—\\\"\\-]+\"\n",
    "stopwords_ru = stopwords.words(\"russian\")  #Стоп-слвоа\n",
    "morph = MorphAnalyzer()\n",
    "def lemmatize(doc):\n",
    "    doc = re.sub(patterns, ' ', doc)\n",
    "    tokens = []\n",
    "    for token in doc.split():\n",
    "        if token and token not in stopwords_ru:\n",
    "            token = token.strip()\n",
    "            token = morph.normal_forms(token)[0]\n",
    "            \n",
    "            tokens.append(token)\n",
    "    \n",
    "    return ' '.join(tokens)\n"
   ]
  },
  {
   "cell_type": "code",
   "execution_count": 28,
   "id": "7a8db31f-9aa3-437b-b4f7-c19a9b03634d",
   "metadata": {
    "scrolled": true
   },
   "outputs": [
    {
     "data": {
      "application/vnd.jupyter.widget-view+json": {
       "model_id": "6be1518a67c94e90ac8bbb2b74a09ce8",
       "version_major": 2,
       "version_minor": 0
      },
      "text/plain": [
       "  0%|          | 0/2837 [00:00<?, ?it/s]"
      ]
     },
     "metadata": {},
     "output_type": "display_data"
    }
   ],
   "source": [
    "raw_data['lemm'] = raw_data['text'].progress_apply(lemmatize)\n",
    "raw_data.to_csv('prepared_data')"
   ]
  },
  {
   "cell_type": "code",
   "execution_count": 29,
   "id": "88feb2e5-56c3-431e-8a91-35595081a569",
   "metadata": {},
   "outputs": [
    {
     "data": {
      "text/html": [
       "<div>\n",
       "<style scoped>\n",
       "    .dataframe tbody tr th:only-of-type {\n",
       "        vertical-align: middle;\n",
       "    }\n",
       "\n",
       "    .dataframe tbody tr th {\n",
       "        vertical-align: top;\n",
       "    }\n",
       "\n",
       "    .dataframe thead th {\n",
       "        text-align: right;\n",
       "    }\n",
       "</style>\n",
       "<table border=\"1\" class=\"dataframe\">\n",
       "  <thead>\n",
       "    <tr style=\"text-align: right;\">\n",
       "      <th></th>\n",
       "      <th>id</th>\n",
       "      <th>text</th>\n",
       "      <th>class</th>\n",
       "      <th>labels</th>\n",
       "      <th>lemm</th>\n",
       "    </tr>\n",
       "  </thead>\n",
       "  <tbody>\n",
       "    <tr>\n",
       "      <th>0</th>\n",
       "      <td>45</td>\n",
       "      <td>негатив к вам и горячей линии которые нафиг н...</td>\n",
       "      <td>Консультация КЦ</td>\n",
       "      <td>0</td>\n",
       "      <td>негатив горячий линия который нафиг нужный воо...</td>\n",
       "    </tr>\n",
       "    <tr>\n",
       "      <th>1</th>\n",
       "      <td>97</td>\n",
       "      <td>перестаньте впаривать клиентам дополнительные ...</td>\n",
       "      <td>Компетентность продавцов/ консультантов</td>\n",
       "      <td>1</td>\n",
       "      <td>перестать впаривать клиент дополнительный това...</td>\n",
       "    </tr>\n",
       "    <tr>\n",
       "      <th>2</th>\n",
       "      <td>105</td>\n",
       "      <td>продавец предложил наклеить защитную плёнку з...</td>\n",
       "      <td>Компетентность продавцов/ консультантов</td>\n",
       "      <td>1</td>\n",
       "      <td>продавец предложить наклеить защитный плёнка р...</td>\n",
       "    </tr>\n",
       "    <tr>\n",
       "      <th>3</th>\n",
       "      <td>127</td>\n",
       "      <td>продавец режил продать нам товар почему то по ...</td>\n",
       "      <td>Компетентность продавцов/ консультантов</td>\n",
       "      <td>1</td>\n",
       "      <td>продавец режить продать мы товар почему завыси...</td>\n",
       "    </tr>\n",
       "    <tr>\n",
       "      <th>4</th>\n",
       "      <td>130</td>\n",
       "      <td>навязанные услуги ( без моего согласия) на сум...</td>\n",
       "      <td>Компетентность продавцов/ консультантов</td>\n",
       "      <td>1</td>\n",
       "      <td>навязать услуга мой согласие сумма рубль</td>\n",
       "    </tr>\n",
       "    <tr>\n",
       "      <th>...</th>\n",
       "      <td>...</td>\n",
       "      <td>...</td>\n",
       "      <td>...</td>\n",
       "      <td>...</td>\n",
       "      <td>...</td>\n",
       "    </tr>\n",
       "    <tr>\n",
       "      <th>2832</th>\n",
       "      <td>17570</td>\n",
       "      <td>почему отключили электронную очередь через пол...</td>\n",
       "      <td>Электронная очередь</td>\n",
       "      <td>2</td>\n",
       "      <td>почему отключить электронный очередь получение...</td>\n",
       "    </tr>\n",
       "    <tr>\n",
       "      <th>2833</th>\n",
       "      <td>17579</td>\n",
       "      <td>очередь на кассе. продавцы не торопятся с зака...</td>\n",
       "      <td>Время ожидания у кассы</td>\n",
       "      <td>7</td>\n",
       "      <td>очередь касса продавец торопиться заказ разгов...</td>\n",
       "    </tr>\n",
       "    <tr>\n",
       "      <th>2834</th>\n",
       "      <td>17586</td>\n",
       "      <td>профессионализма менеджеру бы, да и внимания к...</td>\n",
       "      <td>Обслуживание продавцами/ консультантами</td>\n",
       "      <td>6</td>\n",
       "      <td>профессионализм менеджер внимание клиент большой</td>\n",
       "    </tr>\n",
       "    <tr>\n",
       "      <th>2835</th>\n",
       "      <td>17591</td>\n",
       "      <td>сотрудник на выдаче заказа потребовал документ...</td>\n",
       "      <td>Электронная очередь</td>\n",
       "      <td>2</td>\n",
       "      <td>сотрудник выдача заказ потребовать документ уд...</td>\n",
       "    </tr>\n",
       "    <tr>\n",
       "      <th>2836</th>\n",
       "      <td>17594</td>\n",
       "      <td>клиентоориентированность</td>\n",
       "      <td>Компетентность продавцов/ консультантов</td>\n",
       "      <td>1</td>\n",
       "      <td>клиентоориентированность</td>\n",
       "    </tr>\n",
       "  </tbody>\n",
       "</table>\n",
       "<p>2837 rows × 5 columns</p>\n",
       "</div>"
      ],
      "text/plain": [
       "         id                                               text  \\\n",
       "0        45   негатив к вам и горячей линии которые нафиг н...   \n",
       "1        97  перестаньте впаривать клиентам дополнительные ...   \n",
       "2       105   продавец предложил наклеить защитную плёнку з...   \n",
       "3       127  продавец режил продать нам товар почему то по ...   \n",
       "4       130  навязанные услуги ( без моего согласия) на сум...   \n",
       "...     ...                                                ...   \n",
       "2832  17570  почему отключили электронную очередь через пол...   \n",
       "2833  17579  очередь на кассе. продавцы не торопятся с зака...   \n",
       "2834  17586  профессионализма менеджеру бы, да и внимания к...   \n",
       "2835  17591  сотрудник на выдаче заказа потребовал документ...   \n",
       "2836  17594                           клиентоориентированность   \n",
       "\n",
       "                                        class  labels  \\\n",
       "0                             Консультация КЦ       0   \n",
       "1     Компетентность продавцов/ консультантов       1   \n",
       "2     Компетентность продавцов/ консультантов       1   \n",
       "3     Компетентность продавцов/ консультантов       1   \n",
       "4     Компетентность продавцов/ консультантов       1   \n",
       "...                                       ...     ...   \n",
       "2832                      Электронная очередь       2   \n",
       "2833                   Время ожидания у кассы       7   \n",
       "2834  Обслуживание продавцами/ консультантами       6   \n",
       "2835                      Электронная очередь       2   \n",
       "2836  Компетентность продавцов/ консультантов       1   \n",
       "\n",
       "                                                   lemm  \n",
       "0     негатив горячий линия который нафиг нужный воо...  \n",
       "1     перестать впаривать клиент дополнительный това...  \n",
       "2     продавец предложить наклеить защитный плёнка р...  \n",
       "3     продавец режить продать мы товар почему завыси...  \n",
       "4              навязать услуга мой согласие сумма рубль  \n",
       "...                                                 ...  \n",
       "2832  почему отключить электронный очередь получение...  \n",
       "2833  очередь касса продавец торопиться заказ разгов...  \n",
       "2834   профессионализм менеджер внимание клиент большой  \n",
       "2835  сотрудник выдача заказ потребовать документ уд...  \n",
       "2836                           клиентоориентированность  \n",
       "\n",
       "[2837 rows x 5 columns]"
      ]
     },
     "execution_count": 29,
     "metadata": {},
     "output_type": "execute_result"
    }
   ],
   "source": [
    "df = pd.read_csv('prepared_data', index_col = 0)\n",
    "df"
   ]
  },
  {
   "cell_type": "code",
   "execution_count": 7,
   "id": "11123fdb-7a83-4f81-964c-9d10c97ac819",
   "metadata": {},
   "outputs": [],
   "source": [
    "#На этом обработка данных пока закончилась. С этого момента идет само обучение"
   ]
  },
  {
   "cell_type": "code",
   "execution_count": 8,
   "id": "ce32a428-64c1-464c-b3cd-1ab34c00aeef",
   "metadata": {},
   "outputs": [],
   "source": [
    "#Функция для вывода матрицы ошибок. \n",
    "#На данной матрице легко определить количество правильно/неправильно спрогнозированных моделью значений.\n",
    "def plot_confusion_matrix(y_test, y_preds, model):\n",
    "    fig, ax = plt.subplots(figsize=(16,10))\n",
    "    cm = confusion_matrix(y_test, y_preds)\n",
    "    cmp = ConfusionMatrixDisplay(cm, display_labels = model.classes_ )\n",
    "    cmp.plot(ax=ax)\n",
    "    plt.show()"
   ]
  },
  {
   "cell_type": "code",
   "execution_count": 9,
   "id": "7da5bf1d-3e48-4e52-b850-722928e24de1",
   "metadata": {},
   "outputs": [],
   "source": [
    "#Делим выборку на тренировочную и тестовую.\n",
    "x = df['lemm']\n",
    "y = df['labels']\n",
    "\n",
    "X_train, X_test, y_train, y_test = train_test_split(\n",
    "    x, y, random_state=42, test_size=0.25, stratify=y)"
   ]
  },
  {
   "cell_type": "code",
   "execution_count": 10,
   "id": "9c9e40f8-061f-4941-ae8d-ce488b41ccf0",
   "metadata": {},
   "outputs": [],
   "source": [
    "#Сравним несколько методов классификации\n",
    "sgd_clf = Pipeline([\n",
    "    ('tfidf', TfidfVectorizer()),\n",
    "    ('sgd_clf', SGDClassifier(random_state=42))])\n",
    "knn_clf = Pipeline([\n",
    "    ('tfidf', TfidfVectorizer()),\n",
    "    ('knn_clf', KNeighborsClassifier(n_neighbors=10))]) \n",
    "rnf_clf = Pipeline([\n",
    "    ('tfidf', TfidfVectorizer()),\n",
    "    ('rnf_clf', RandomForestClassifier())])\n"
   ]
  },
  {
   "cell_type": "code",
   "execution_count": 11,
   "id": "1b87ac52-6358-4f05-a6ab-3b513eca926d",
   "metadata": {},
   "outputs": [
    {
     "data": {
      "text/html": [
       "<style>#sk-container-id-1 {color: black;}#sk-container-id-1 pre{padding: 0;}#sk-container-id-1 div.sk-toggleable {background-color: white;}#sk-container-id-1 label.sk-toggleable__label {cursor: pointer;display: block;width: 100%;margin-bottom: 0;padding: 0.3em;box-sizing: border-box;text-align: center;}#sk-container-id-1 label.sk-toggleable__label-arrow:before {content: \"▸\";float: left;margin-right: 0.25em;color: #696969;}#sk-container-id-1 label.sk-toggleable__label-arrow:hover:before {color: black;}#sk-container-id-1 div.sk-estimator:hover label.sk-toggleable__label-arrow:before {color: black;}#sk-container-id-1 div.sk-toggleable__content {max-height: 0;max-width: 0;overflow: hidden;text-align: left;background-color: #f0f8ff;}#sk-container-id-1 div.sk-toggleable__content pre {margin: 0.2em;color: black;border-radius: 0.25em;background-color: #f0f8ff;}#sk-container-id-1 input.sk-toggleable__control:checked~div.sk-toggleable__content {max-height: 200px;max-width: 100%;overflow: auto;}#sk-container-id-1 input.sk-toggleable__control:checked~label.sk-toggleable__label-arrow:before {content: \"▾\";}#sk-container-id-1 div.sk-estimator input.sk-toggleable__control:checked~label.sk-toggleable__label {background-color: #d4ebff;}#sk-container-id-1 div.sk-label input.sk-toggleable__control:checked~label.sk-toggleable__label {background-color: #d4ebff;}#sk-container-id-1 input.sk-hidden--visually {border: 0;clip: rect(1px 1px 1px 1px);clip: rect(1px, 1px, 1px, 1px);height: 1px;margin: -1px;overflow: hidden;padding: 0;position: absolute;width: 1px;}#sk-container-id-1 div.sk-estimator {font-family: monospace;background-color: #f0f8ff;border: 1px dotted black;border-radius: 0.25em;box-sizing: border-box;margin-bottom: 0.5em;}#sk-container-id-1 div.sk-estimator:hover {background-color: #d4ebff;}#sk-container-id-1 div.sk-parallel-item::after {content: \"\";width: 100%;border-bottom: 1px solid gray;flex-grow: 1;}#sk-container-id-1 div.sk-label:hover label.sk-toggleable__label {background-color: #d4ebff;}#sk-container-id-1 div.sk-serial::before {content: \"\";position: absolute;border-left: 1px solid gray;box-sizing: border-box;top: 0;bottom: 0;left: 50%;z-index: 0;}#sk-container-id-1 div.sk-serial {display: flex;flex-direction: column;align-items: center;background-color: white;padding-right: 0.2em;padding-left: 0.2em;position: relative;}#sk-container-id-1 div.sk-item {position: relative;z-index: 1;}#sk-container-id-1 div.sk-parallel {display: flex;align-items: stretch;justify-content: center;background-color: white;position: relative;}#sk-container-id-1 div.sk-item::before, #sk-container-id-1 div.sk-parallel-item::before {content: \"\";position: absolute;border-left: 1px solid gray;box-sizing: border-box;top: 0;bottom: 0;left: 50%;z-index: -1;}#sk-container-id-1 div.sk-parallel-item {display: flex;flex-direction: column;z-index: 1;position: relative;background-color: white;}#sk-container-id-1 div.sk-parallel-item:first-child::after {align-self: flex-end;width: 50%;}#sk-container-id-1 div.sk-parallel-item:last-child::after {align-self: flex-start;width: 50%;}#sk-container-id-1 div.sk-parallel-item:only-child::after {width: 0;}#sk-container-id-1 div.sk-dashed-wrapped {border: 1px dashed gray;margin: 0 0.4em 0.5em 0.4em;box-sizing: border-box;padding-bottom: 0.4em;background-color: white;}#sk-container-id-1 div.sk-label label {font-family: monospace;font-weight: bold;display: inline-block;line-height: 1.2em;}#sk-container-id-1 div.sk-label-container {text-align: center;}#sk-container-id-1 div.sk-container {/* jupyter's `normalize.less` sets `[hidden] { display: none; }` but bootstrap.min.css set `[hidden] { display: none !important; }` so we also need the `!important` here to be able to override the default hidden behavior on the sphinx rendered scikit-learn.org. See: https://github.com/scikit-learn/scikit-learn/issues/21755 */display: inline-block !important;position: relative;}#sk-container-id-1 div.sk-text-repr-fallback {display: none;}</style><div id=\"sk-container-id-1\" class=\"sk-top-container\"><div class=\"sk-text-repr-fallback\"><pre>Pipeline(steps=[(&#x27;tfidf&#x27;, TfidfVectorizer()),\n",
       "                (&#x27;rnf_clf&#x27;, RandomForestClassifier())])</pre><b>In a Jupyter environment, please rerun this cell to show the HTML representation or trust the notebook. <br />On GitHub, the HTML representation is unable to render, please try loading this page with nbviewer.org.</b></div><div class=\"sk-container\" hidden><div class=\"sk-item sk-dashed-wrapped\"><div class=\"sk-label-container\"><div class=\"sk-label sk-toggleable\"><input class=\"sk-toggleable__control sk-hidden--visually\" id=\"sk-estimator-id-1\" type=\"checkbox\" ><label for=\"sk-estimator-id-1\" class=\"sk-toggleable__label sk-toggleable__label-arrow\">Pipeline</label><div class=\"sk-toggleable__content\"><pre>Pipeline(steps=[(&#x27;tfidf&#x27;, TfidfVectorizer()),\n",
       "                (&#x27;rnf_clf&#x27;, RandomForestClassifier())])</pre></div></div></div><div class=\"sk-serial\"><div class=\"sk-item\"><div class=\"sk-estimator sk-toggleable\"><input class=\"sk-toggleable__control sk-hidden--visually\" id=\"sk-estimator-id-2\" type=\"checkbox\" ><label for=\"sk-estimator-id-2\" class=\"sk-toggleable__label sk-toggleable__label-arrow\">TfidfVectorizer</label><div class=\"sk-toggleable__content\"><pre>TfidfVectorizer()</pre></div></div></div><div class=\"sk-item\"><div class=\"sk-estimator sk-toggleable\"><input class=\"sk-toggleable__control sk-hidden--visually\" id=\"sk-estimator-id-3\" type=\"checkbox\" ><label for=\"sk-estimator-id-3\" class=\"sk-toggleable__label sk-toggleable__label-arrow\">RandomForestClassifier</label><div class=\"sk-toggleable__content\"><pre>RandomForestClassifier()</pre></div></div></div></div></div></div></div>"
      ],
      "text/plain": [
       "Pipeline(steps=[('tfidf', TfidfVectorizer()),\n",
       "                ('rnf_clf', RandomForestClassifier())])"
      ]
     },
     "execution_count": 11,
     "metadata": {},
     "output_type": "execute_result"
    }
   ],
   "source": [
    "sgd_clf.fit(X_train, y_train)\n",
    "knn_clf.fit(X_train, y_train)\n",
    "rnf_clf.fit(X_train, y_train)"
   ]
  },
  {
   "cell_type": "code",
   "execution_count": 12,
   "id": "8fde190c-f4bf-4c56-9bce-f9e1c5e89f5a",
   "metadata": {},
   "outputs": [
    {
     "data": {
      "image/png": "[encoded data removed]",
      "text/plain": [
       "<Figure size 1152x720 with 2 Axes>"
      ]
     },
     "metadata": {
      "needs_background": "light"
     },
     "output_type": "display_data"
    },
    {
     "name": "stdout",
     "output_type": "stream",
     "text": [
      "              precision    recall  f1-score   support\n",
      "\n",
      "           0       0.92      0.81      0.86        43\n",
      "           1       0.73      0.83      0.77       206\n",
      "           2       0.88      0.79      0.83        66\n",
      "           3       0.70      0.74      0.72        73\n",
      "           4       0.77      0.75      0.76       125\n",
      "           5       0.83      0.66      0.74        53\n",
      "           6       0.68      0.61      0.65        67\n",
      "           7       0.85      0.86      0.85        77\n",
      "\n",
      "    accuracy                           0.77       710\n",
      "   macro avg       0.80      0.76      0.77       710\n",
      "weighted avg       0.77      0.77      0.77       710\n",
      "\n"
     ]
    }
   ],
   "source": [
    "plot_confusion_matrix(y_test, sgd_clf.predict(X_test), sgd_clf)\n",
    "\n",
    "print(classification_report(y_test, sgd_clf.predict(X_test))) "
   ]
  },
  {
   "cell_type": "code",
   "execution_count": 13,
   "id": "c15a41d6-d7c1-4911-8d81-6161d26cbd8f",
   "metadata": {},
   "outputs": [
    {
     "data": {
      "image/png": "[encoded data removed]",
      "text/plain": [
       "<Figure size 1152x720 with 2 Axes>"
      ]
     },
     "metadata": {
      "needs_background": "light"
     },
     "output_type": "display_data"
    },
    {
     "name": "stdout",
     "output_type": "stream",
     "text": [
      "              precision    recall  f1-score   support\n",
      "\n",
      "           0       0.79      0.77      0.78        43\n",
      "           1       0.66      0.74      0.70       206\n",
      "           2       0.85      0.70      0.77        66\n",
      "           3       0.42      0.85      0.56        73\n",
      "           4       0.69      0.59      0.64       125\n",
      "           5       0.60      0.17      0.26        53\n",
      "           6       0.77      0.30      0.43        67\n",
      "           7       0.72      0.82      0.77        77\n",
      "\n",
      "    accuracy                           0.65       710\n",
      "   macro avg       0.69      0.62      0.61       710\n",
      "weighted avg       0.68      0.65      0.63       710\n",
      "\n"
     ]
    }
   ],
   "source": [
    "plot_confusion_matrix(y_test, knn_clf.predict(X_test), sgd_clf)\n",
    "\n",
    "print(classification_report(y_test, knn_clf.predict(X_test))) "
   ]
  },
  {
   "cell_type": "code",
   "execution_count": 14,
   "id": "0ccd4f40-c012-4087-90cc-2186c784b88d",
   "metadata": {},
   "outputs": [
    {
     "data": {
      "image/png": "[encoded data removed]",
      "text/plain": [
       "<Figure size 1152x720 with 2 Axes>"
      ]
     },
     "metadata": {
      "needs_background": "light"
     },
     "output_type": "display_data"
    },
    {
     "name": "stdout",
     "output_type": "stream",
     "text": [
      "              precision    recall  f1-score   support\n",
      "\n",
      "           0       0.87      0.77      0.81        43\n",
      "           1       0.64      0.91      0.75       206\n",
      "           2       0.85      0.86      0.86        66\n",
      "           3       0.79      0.68      0.74        73\n",
      "           4       0.80      0.64      0.71       125\n",
      "           5       0.78      0.55      0.64        53\n",
      "           6       0.81      0.31      0.45        67\n",
      "           7       0.83      0.96      0.89        77\n",
      "\n",
      "    accuracy                           0.75       710\n",
      "   macro avg       0.80      0.71      0.73       710\n",
      "weighted avg       0.77      0.75      0.74       710\n",
      "\n"
     ]
    }
   ],
   "source": [
    "plot_confusion_matrix(y_test, rnf_clf.predict(X_test), sgd_clf)\n",
    "\n",
    "print(classification_report(y_test, rnf_clf.predict(X_test))) "
   ]
  },
  {
   "cell_type": "code",
   "execution_count": 15,
   "id": "ecf3802f-8a7c-42d2-a369-ed1d77ef62b5",
   "metadata": {},
   "outputs": [
    {
     "data": {
      "text/html": [
       "<style>#sk-container-id-2 {color: black;}#sk-container-id-2 pre{padding: 0;}#sk-container-id-2 div.sk-toggleable {background-color: white;}#sk-container-id-2 label.sk-toggleable__label {cursor: pointer;display: block;width: 100%;margin-bottom: 0;padding: 0.3em;box-sizing: border-box;text-align: center;}#sk-container-id-2 label.sk-toggleable__label-arrow:before {content: \"▸\";float: left;margin-right: 0.25em;color: #696969;}#sk-container-id-2 label.sk-toggleable__label-arrow:hover:before {color: black;}#sk-container-id-2 div.sk-estimator:hover label.sk-toggleable__label-arrow:before {color: black;}#sk-container-id-2 div.sk-toggleable__content {max-height: 0;max-width: 0;overflow: hidden;text-align: left;background-color: #f0f8ff;}#sk-container-id-2 div.sk-toggleable__content pre {margin: 0.2em;color: black;border-radius: 0.25em;background-color: #f0f8ff;}#sk-container-id-2 input.sk-toggleable__control:checked~div.sk-toggleable__content {max-height: 200px;max-width: 100%;overflow: auto;}#sk-container-id-2 input.sk-toggleable__control:checked~label.sk-toggleable__label-arrow:before {content: \"▾\";}#sk-container-id-2 div.sk-estimator input.sk-toggleable__control:checked~label.sk-toggleable__label {background-color: #d4ebff;}#sk-container-id-2 div.sk-label input.sk-toggleable__control:checked~label.sk-toggleable__label {background-color: #d4ebff;}#sk-container-id-2 input.sk-hidden--visually {border: 0;clip: rect(1px 1px 1px 1px);clip: rect(1px, 1px, 1px, 1px);height: 1px;margin: -1px;overflow: hidden;padding: 0;position: absolute;width: 1px;}#sk-container-id-2 div.sk-estimator {font-family: monospace;background-color: #f0f8ff;border: 1px dotted black;border-radius: 0.25em;box-sizing: border-box;margin-bottom: 0.5em;}#sk-container-id-2 div.sk-estimator:hover {background-color: #d4ebff;}#sk-container-id-2 div.sk-parallel-item::after {content: \"\";width: 100%;border-bottom: 1px solid gray;flex-grow: 1;}#sk-container-id-2 div.sk-label:hover label.sk-toggleable__label {background-color: #d4ebff;}#sk-container-id-2 div.sk-serial::before {content: \"\";position: absolute;border-left: 1px solid gray;box-sizing: border-box;top: 0;bottom: 0;left: 50%;z-index: 0;}#sk-container-id-2 div.sk-serial {display: flex;flex-direction: column;align-items: center;background-color: white;padding-right: 0.2em;padding-left: 0.2em;position: relative;}#sk-container-id-2 div.sk-item {position: relative;z-index: 1;}#sk-container-id-2 div.sk-parallel {display: flex;align-items: stretch;justify-content: center;background-color: white;position: relative;}#sk-container-id-2 div.sk-item::before, #sk-container-id-2 div.sk-parallel-item::before {content: \"\";position: absolute;border-left: 1px solid gray;box-sizing: border-box;top: 0;bottom: 0;left: 50%;z-index: -1;}#sk-container-id-2 div.sk-parallel-item {display: flex;flex-direction: column;z-index: 1;position: relative;background-color: white;}#sk-container-id-2 div.sk-parallel-item:first-child::after {align-self: flex-end;width: 50%;}#sk-container-id-2 div.sk-parallel-item:last-child::after {align-self: flex-start;width: 50%;}#sk-container-id-2 div.sk-parallel-item:only-child::after {width: 0;}#sk-container-id-2 div.sk-dashed-wrapped {border: 1px dashed gray;margin: 0 0.4em 0.5em 0.4em;box-sizing: border-box;padding-bottom: 0.4em;background-color: white;}#sk-container-id-2 div.sk-label label {font-family: monospace;font-weight: bold;display: inline-block;line-height: 1.2em;}#sk-container-id-2 div.sk-label-container {text-align: center;}#sk-container-id-2 div.sk-container {/* jupyter's `normalize.less` sets `[hidden] { display: none; }` but bootstrap.min.css set `[hidden] { display: none !important; }` so we also need the `!important` here to be able to override the default hidden behavior on the sphinx rendered scikit-learn.org. See: https://github.com/scikit-learn/scikit-learn/issues/21755 */display: inline-block !important;position: relative;}#sk-container-id-2 div.sk-text-repr-fallback {display: none;}</style><div id=\"sk-container-id-2\" class=\"sk-top-container\"><div class=\"sk-text-repr-fallback\"><pre>Pipeline(steps=[(&#x27;tfidf&#x27;, TfidfVectorizer()),\n",
       "                (&#x27;gridsearch&#x27;,\n",
       "                 GridSearchCV(estimator=SGDClassifier(random_state=42),\n",
       "                              n_jobs=-1,\n",
       "                              param_grid={&#x27;alpha&#x27;: [1e-06, 1e-05, 0.0001, 0.001,\n",
       "                                                    0.01, 0.1, 1],\n",
       "                                          &#x27;l1_ratio&#x27;: [0, 0.05, 0.1, 0.2, 0.5,\n",
       "                                                       0.8, 0.9, 0.95, 1],\n",
       "                                          &#x27;loss&#x27;: [&#x27;log_loss&#x27;, &#x27;hinge&#x27;],\n",
       "                                          &#x27;penalty&#x27;: [&#x27;elasticnet&#x27;, &#x27;l1&#x27;,\n",
       "                                                      None]},\n",
       "                              scoring=&#x27;f1_weighted&#x27;))])</pre><b>In a Jupyter environment, please rerun this cell to show the HTML representation or trust the notebook. <br />On GitHub, the HTML representation is unable to render, please try loading this page with nbviewer.org.</b></div><div class=\"sk-container\" hidden><div class=\"sk-item sk-dashed-wrapped\"><div class=\"sk-label-container\"><div class=\"sk-label sk-toggleable\"><input class=\"sk-toggleable__control sk-hidden--visually\" id=\"sk-estimator-id-4\" type=\"checkbox\" ><label for=\"sk-estimator-id-4\" class=\"sk-toggleable__label sk-toggleable__label-arrow\">Pipeline</label><div class=\"sk-toggleable__content\"><pre>Pipeline(steps=[(&#x27;tfidf&#x27;, TfidfVectorizer()),\n",
       "                (&#x27;gridsearch&#x27;,\n",
       "                 GridSearchCV(estimator=SGDClassifier(random_state=42),\n",
       "                              n_jobs=-1,\n",
       "                              param_grid={&#x27;alpha&#x27;: [1e-06, 1e-05, 0.0001, 0.001,\n",
       "                                                    0.01, 0.1, 1],\n",
       "                                          &#x27;l1_ratio&#x27;: [0, 0.05, 0.1, 0.2, 0.5,\n",
       "                                                       0.8, 0.9, 0.95, 1],\n",
       "                                          &#x27;loss&#x27;: [&#x27;log_loss&#x27;, &#x27;hinge&#x27;],\n",
       "                                          &#x27;penalty&#x27;: [&#x27;elasticnet&#x27;, &#x27;l1&#x27;,\n",
       "                                                      None]},\n",
       "                              scoring=&#x27;f1_weighted&#x27;))])</pre></div></div></div><div class=\"sk-serial\"><div class=\"sk-item\"><div class=\"sk-estimator sk-toggleable\"><input class=\"sk-toggleable__control sk-hidden--visually\" id=\"sk-estimator-id-5\" type=\"checkbox\" ><label for=\"sk-estimator-id-5\" class=\"sk-toggleable__label sk-toggleable__label-arrow\">TfidfVectorizer</label><div class=\"sk-toggleable__content\"><pre>TfidfVectorizer()</pre></div></div></div><div class=\"sk-item sk-dashed-wrapped\"><div class=\"sk-label-container\"><div class=\"sk-label sk-toggleable\"><input class=\"sk-toggleable__control sk-hidden--visually\" id=\"sk-estimator-id-6\" type=\"checkbox\" ><label for=\"sk-estimator-id-6\" class=\"sk-toggleable__label sk-toggleable__label-arrow\">gridsearch: GridSearchCV</label><div class=\"sk-toggleable__content\"><pre>GridSearchCV(estimator=SGDClassifier(random_state=42), n_jobs=-1,\n",
       "             param_grid={&#x27;alpha&#x27;: [1e-06, 1e-05, 0.0001, 0.001, 0.01, 0.1, 1],\n",
       "                         &#x27;l1_ratio&#x27;: [0, 0.05, 0.1, 0.2, 0.5, 0.8, 0.9, 0.95,\n",
       "                                      1],\n",
       "                         &#x27;loss&#x27;: [&#x27;log_loss&#x27;, &#x27;hinge&#x27;],\n",
       "                         &#x27;penalty&#x27;: [&#x27;elasticnet&#x27;, &#x27;l1&#x27;, None]},\n",
       "             scoring=&#x27;f1_weighted&#x27;)</pre></div></div></div><div class=\"sk-parallel\"><div class=\"sk-parallel-item\"><div class=\"sk-item\"><div class=\"sk-label-container\"><div class=\"sk-label sk-toggleable\"><input class=\"sk-toggleable__control sk-hidden--visually\" id=\"sk-estimator-id-7\" type=\"checkbox\" ><label for=\"sk-estimator-id-7\" class=\"sk-toggleable__label sk-toggleable__label-arrow\">estimator: SGDClassifier</label><div class=\"sk-toggleable__content\"><pre>SGDClassifier(random_state=42)</pre></div></div></div><div class=\"sk-serial\"><div class=\"sk-item\"><div class=\"sk-estimator sk-toggleable\"><input class=\"sk-toggleable__control sk-hidden--visually\" id=\"sk-estimator-id-8\" type=\"checkbox\" ><label for=\"sk-estimator-id-8\" class=\"sk-toggleable__label sk-toggleable__label-arrow\">SGDClassifier</label><div class=\"sk-toggleable__content\"><pre>SGDClassifier(random_state=42)</pre></div></div></div></div></div></div></div></div></div></div></div></div>"
      ],
      "text/plain": [
       "Pipeline(steps=[('tfidf', TfidfVectorizer()),\n",
       "                ('gridsearch',\n",
       "                 GridSearchCV(estimator=SGDClassifier(random_state=42),\n",
       "                              n_jobs=-1,\n",
       "                              param_grid={'alpha': [1e-06, 1e-05, 0.0001, 0.001,\n",
       "                                                    0.01, 0.1, 1],\n",
       "                                          'l1_ratio': [0, 0.05, 0.1, 0.2, 0.5,\n",
       "                                                       0.8, 0.9, 0.95, 1],\n",
       "                                          'loss': ['log_loss', 'hinge'],\n",
       "                                          'penalty': ['elasticnet', 'l1',\n",
       "                                                      None]},\n",
       "                              scoring='f1_weighted'))])"
      ]
     },
     "execution_count": 15,
     "metadata": {},
     "output_type": "execute_result"
    }
   ],
   "source": [
    "#SGD показал лучшие результаты, настроим для него гиперпараметры\n",
    "param_grid = {\n",
    "    'loss': ['log_loss', 'hinge'],\n",
    "    'penalty': ['elasticnet', 'l1', None],\n",
    "    'alpha': [10 ** x for x in range(-6, 1)],\n",
    "    'l1_ratio': [0, 0.05, 0.1, 0.2, 0.5, 0.8, 0.9, 0.95, 1],\n",
    "}\n",
    "clf_grid = Pipeline([('tfidf', TfidfVectorizer()),\n",
    "    ('gridsearch', GridSearchCV(SGDClassifier(random_state=42), param_grid, n_jobs=-1, scoring='f1_weighted'))])\n",
    "\n",
    "clf_grid.fit(X_train, y_train)\n"
   ]
  },
  {
   "cell_type": "code",
   "execution_count": 16,
   "id": "55c20d1f-90f7-408b-bdc5-66339f4f6f6b",
   "metadata": {},
   "outputs": [
    {
     "data": {
      "image/png": "[encoded data removed]",
      "text/plain": [
       "<Figure size 1152x720 with 2 Axes>"
      ]
     },
     "metadata": {
      "needs_background": "light"
     },
     "output_type": "display_data"
    },
    {
     "name": "stdout",
     "output_type": "stream",
     "text": [
      "              precision    recall  f1-score   support\n",
      "\n",
      "           0       0.88      0.84      0.86        43\n",
      "           1       0.74      0.85      0.79       206\n",
      "           2       0.86      0.86      0.86        66\n",
      "           3       0.82      0.73      0.77        73\n",
      "           4       0.78      0.82      0.80       125\n",
      "           5       0.86      0.58      0.70        53\n",
      "           6       0.72      0.61      0.66        67\n",
      "           7       0.90      0.91      0.90        77\n",
      "\n",
      "    accuracy                           0.80       710\n",
      "   macro avg       0.82      0.78      0.79       710\n",
      "weighted avg       0.80      0.80      0.79       710\n",
      "\n"
     ]
    }
   ],
   "source": [
    "plot_confusion_matrix(y_test, clf_grid.predict(X_test), clf_grid)\n",
    "\n",
    "print(classification_report(y_test, clf_grid.predict(X_test))) "
   ]
  },
  {
   "cell_type": "code",
   "execution_count": 17,
   "id": "0f1c6be4-af56-4d4d-9520-12fd095923a6",
   "metadata": {},
   "outputs": [
    {
     "data": {
      "text/plain": [
       "class\n",
       "Компетентность продавцов/ консультантов    825\n",
       "Вежливость сотрудников магазина            500\n",
       "Время ожидания у кассы                     306\n",
       "Доступность персонала в магазине           293\n",
       "Обслуживание продавцами/ консультантами    267\n",
       "Электронная очередь                        264\n",
       "Обслуживание на кассе                      212\n",
       "Консультация КЦ                            170\n",
       "Name: count, dtype: int64"
      ]
     },
     "execution_count": 17,
     "metadata": {},
     "output_type": "execute_result"
    }
   ],
   "source": [
    "#По графикам видно, что на класс 1 (Компетентность продавцов/ консультантов) приходится больше всего ложных срабатываний.\n",
    "df['class'].value_counts() #Класс 1 — мажоритарный и поэтому при обучении модели она наиболее сильно ориентируется на данные полученные из текстов данного класса."
   ]
  },
  {
   "cell_type": "code",
   "execution_count": 18,
   "id": "01caf826-935b-41de-b96f-eed70b779d75",
   "metadata": {},
   "outputs": [
    {
     "data": {
      "text/plain": [
       "labels\n",
       "0    170\n",
       "1    170\n",
       "2    170\n",
       "3    170\n",
       "4    170\n",
       "5    170\n",
       "6    170\n",
       "7    170\n",
       "Name: count, dtype: int64"
      ]
     },
     "execution_count": 18,
     "metadata": {},
     "output_type": "execute_result"
    }
   ],
   "source": [
    "#Воспользуемся undersampling методом NearMiss\n",
    "nr = NearMiss()\n",
    "vectorizer = TfidfVectorizer(min_df=30)\n",
    "vect_x = vectorizer.fit_transform(x)\n",
    "\n",
    "X_miss, y_miss = nr.fit_resample(vect_x, y) \n",
    "\n",
    "y_miss.value_counts()"
   ]
  },
  {
   "cell_type": "code",
   "execution_count": 19,
   "id": "6db7ff94-c397-4042-83f5-9731a3ec3161",
   "metadata": {},
   "outputs": [],
   "source": [
    "X_train, X_test, y_train, y_test = train_test_split(\n",
    "    vect_x, y, random_state=42, test_size=0.25,stratify=y\n",
    ")"
   ]
  },
  {
   "cell_type": "code",
   "execution_count": 20,
   "id": "dbaa2a87-0173-40d3-9896-8a633f8b3bb1",
   "metadata": {},
   "outputs": [
    {
     "data": {
      "text/plain": [
       "(2127, 314)"
      ]
     },
     "execution_count": 20,
     "metadata": {},
     "output_type": "execute_result"
    }
   ],
   "source": [
    "X_train.shape"
   ]
  },
  {
   "cell_type": "code",
   "execution_count": 21,
   "id": "05e3ffd5-2700-460c-b5eb-7077a9ab6855",
   "metadata": {},
   "outputs": [
    {
     "data": {
      "text/html": [
       "<style>#sk-container-id-3 {color: black;}#sk-container-id-3 pre{padding: 0;}#sk-container-id-3 div.sk-toggleable {background-color: white;}#sk-container-id-3 label.sk-toggleable__label {cursor: pointer;display: block;width: 100%;margin-bottom: 0;padding: 0.3em;box-sizing: border-box;text-align: center;}#sk-container-id-3 label.sk-toggleable__label-arrow:before {content: \"▸\";float: left;margin-right: 0.25em;color: #696969;}#sk-container-id-3 label.sk-toggleable__label-arrow:hover:before {color: black;}#sk-container-id-3 div.sk-estimator:hover label.sk-toggleable__label-arrow:before {color: black;}#sk-container-id-3 div.sk-toggleable__content {max-height: 0;max-width: 0;overflow: hidden;text-align: left;background-color: #f0f8ff;}#sk-container-id-3 div.sk-toggleable__content pre {margin: 0.2em;color: black;border-radius: 0.25em;background-color: #f0f8ff;}#sk-container-id-3 input.sk-toggleable__control:checked~div.sk-toggleable__content {max-height: 200px;max-width: 100%;overflow: auto;}#sk-container-id-3 input.sk-toggleable__control:checked~label.sk-toggleable__label-arrow:before {content: \"▾\";}#sk-container-id-3 div.sk-estimator input.sk-toggleable__control:checked~label.sk-toggleable__label {background-color: #d4ebff;}#sk-container-id-3 div.sk-label input.sk-toggleable__control:checked~label.sk-toggleable__label {background-color: #d4ebff;}#sk-container-id-3 input.sk-hidden--visually {border: 0;clip: rect(1px 1px 1px 1px);clip: rect(1px, 1px, 1px, 1px);height: 1px;margin: -1px;overflow: hidden;padding: 0;position: absolute;width: 1px;}#sk-container-id-3 div.sk-estimator {font-family: monospace;background-color: #f0f8ff;border: 1px dotted black;border-radius: 0.25em;box-sizing: border-box;margin-bottom: 0.5em;}#sk-container-id-3 div.sk-estimator:hover {background-color: #d4ebff;}#sk-container-id-3 div.sk-parallel-item::after {content: \"\";width: 100%;border-bottom: 1px solid gray;flex-grow: 1;}#sk-container-id-3 div.sk-label:hover label.sk-toggleable__label {background-color: #d4ebff;}#sk-container-id-3 div.sk-serial::before {content: \"\";position: absolute;border-left: 1px solid gray;box-sizing: border-box;top: 0;bottom: 0;left: 50%;z-index: 0;}#sk-container-id-3 div.sk-serial {display: flex;flex-direction: column;align-items: center;background-color: white;padding-right: 0.2em;padding-left: 0.2em;position: relative;}#sk-container-id-3 div.sk-item {position: relative;z-index: 1;}#sk-container-id-3 div.sk-parallel {display: flex;align-items: stretch;justify-content: center;background-color: white;position: relative;}#sk-container-id-3 div.sk-item::before, #sk-container-id-3 div.sk-parallel-item::before {content: \"\";position: absolute;border-left: 1px solid gray;box-sizing: border-box;top: 0;bottom: 0;left: 50%;z-index: -1;}#sk-container-id-3 div.sk-parallel-item {display: flex;flex-direction: column;z-index: 1;position: relative;background-color: white;}#sk-container-id-3 div.sk-parallel-item:first-child::after {align-self: flex-end;width: 50%;}#sk-container-id-3 div.sk-parallel-item:last-child::after {align-self: flex-start;width: 50%;}#sk-container-id-3 div.sk-parallel-item:only-child::after {width: 0;}#sk-container-id-3 div.sk-dashed-wrapped {border: 1px dashed gray;margin: 0 0.4em 0.5em 0.4em;box-sizing: border-box;padding-bottom: 0.4em;background-color: white;}#sk-container-id-3 div.sk-label label {font-family: monospace;font-weight: bold;display: inline-block;line-height: 1.2em;}#sk-container-id-3 div.sk-label-container {text-align: center;}#sk-container-id-3 div.sk-container {/* jupyter's `normalize.less` sets `[hidden] { display: none; }` but bootstrap.min.css set `[hidden] { display: none !important; }` so we also need the `!important` here to be able to override the default hidden behavior on the sphinx rendered scikit-learn.org. See: https://github.com/scikit-learn/scikit-learn/issues/21755 */display: inline-block !important;position: relative;}#sk-container-id-3 div.sk-text-repr-fallback {display: none;}</style><div id=\"sk-container-id-3\" class=\"sk-top-container\"><div class=\"sk-text-repr-fallback\"><pre>Pipeline(steps=[(&#x27;gridsearch&#x27;,\n",
       "                 GridSearchCV(estimator=SGDClassifier(random_state=42),\n",
       "                              n_jobs=-1,\n",
       "                              param_grid={&#x27;alpha&#x27;: [1e-06, 1e-05, 0.0001, 0.001,\n",
       "                                                    0.01, 0.1, 1],\n",
       "                                          &#x27;l1_ratio&#x27;: [0, 0.05, 0.1, 0.2, 0.5,\n",
       "                                                       0.8, 0.9, 0.95, 1],\n",
       "                                          &#x27;loss&#x27;: [&#x27;log_loss&#x27;, &#x27;hinge&#x27;],\n",
       "                                          &#x27;penalty&#x27;: [&#x27;elasticnet&#x27;, &#x27;l1&#x27;,\n",
       "                                                      None]},\n",
       "                              scoring=&#x27;f1_weighted&#x27;))])</pre><b>In a Jupyter environment, please rerun this cell to show the HTML representation or trust the notebook. <br />On GitHub, the HTML representation is unable to render, please try loading this page with nbviewer.org.</b></div><div class=\"sk-container\" hidden><div class=\"sk-item sk-dashed-wrapped\"><div class=\"sk-label-container\"><div class=\"sk-label sk-toggleable\"><input class=\"sk-toggleable__control sk-hidden--visually\" id=\"sk-estimator-id-9\" type=\"checkbox\" ><label for=\"sk-estimator-id-9\" class=\"sk-toggleable__label sk-toggleable__label-arrow\">Pipeline</label><div class=\"sk-toggleable__content\"><pre>Pipeline(steps=[(&#x27;gridsearch&#x27;,\n",
       "                 GridSearchCV(estimator=SGDClassifier(random_state=42),\n",
       "                              n_jobs=-1,\n",
       "                              param_grid={&#x27;alpha&#x27;: [1e-06, 1e-05, 0.0001, 0.001,\n",
       "                                                    0.01, 0.1, 1],\n",
       "                                          &#x27;l1_ratio&#x27;: [0, 0.05, 0.1, 0.2, 0.5,\n",
       "                                                       0.8, 0.9, 0.95, 1],\n",
       "                                          &#x27;loss&#x27;: [&#x27;log_loss&#x27;, &#x27;hinge&#x27;],\n",
       "                                          &#x27;penalty&#x27;: [&#x27;elasticnet&#x27;, &#x27;l1&#x27;,\n",
       "                                                      None]},\n",
       "                              scoring=&#x27;f1_weighted&#x27;))])</pre></div></div></div><div class=\"sk-serial\"><div class=\"sk-item sk-dashed-wrapped\"><div class=\"sk-label-container\"><div class=\"sk-label sk-toggleable\"><input class=\"sk-toggleable__control sk-hidden--visually\" id=\"sk-estimator-id-10\" type=\"checkbox\" ><label for=\"sk-estimator-id-10\" class=\"sk-toggleable__label sk-toggleable__label-arrow\">gridsearch: GridSearchCV</label><div class=\"sk-toggleable__content\"><pre>GridSearchCV(estimator=SGDClassifier(random_state=42), n_jobs=-1,\n",
       "             param_grid={&#x27;alpha&#x27;: [1e-06, 1e-05, 0.0001, 0.001, 0.01, 0.1, 1],\n",
       "                         &#x27;l1_ratio&#x27;: [0, 0.05, 0.1, 0.2, 0.5, 0.8, 0.9, 0.95,\n",
       "                                      1],\n",
       "                         &#x27;loss&#x27;: [&#x27;log_loss&#x27;, &#x27;hinge&#x27;],\n",
       "                         &#x27;penalty&#x27;: [&#x27;elasticnet&#x27;, &#x27;l1&#x27;, None]},\n",
       "             scoring=&#x27;f1_weighted&#x27;)</pre></div></div></div><div class=\"sk-parallel\"><div class=\"sk-parallel-item\"><div class=\"sk-item\"><div class=\"sk-label-container\"><div class=\"sk-label sk-toggleable\"><input class=\"sk-toggleable__control sk-hidden--visually\" id=\"sk-estimator-id-11\" type=\"checkbox\" ><label for=\"sk-estimator-id-11\" class=\"sk-toggleable__label sk-toggleable__label-arrow\">estimator: SGDClassifier</label><div class=\"sk-toggleable__content\"><pre>SGDClassifier(random_state=42)</pre></div></div></div><div class=\"sk-serial\"><div class=\"sk-item\"><div class=\"sk-estimator sk-toggleable\"><input class=\"sk-toggleable__control sk-hidden--visually\" id=\"sk-estimator-id-12\" type=\"checkbox\" ><label for=\"sk-estimator-id-12\" class=\"sk-toggleable__label sk-toggleable__label-arrow\">SGDClassifier</label><div class=\"sk-toggleable__content\"><pre>SGDClassifier(random_state=42)</pre></div></div></div></div></div></div></div></div></div></div></div></div>"
      ],
      "text/plain": [
       "Pipeline(steps=[('gridsearch',\n",
       "                 GridSearchCV(estimator=SGDClassifier(random_state=42),\n",
       "                              n_jobs=-1,\n",
       "                              param_grid={'alpha': [1e-06, 1e-05, 0.0001, 0.001,\n",
       "                                                    0.01, 0.1, 1],\n",
       "                                          'l1_ratio': [0, 0.05, 0.1, 0.2, 0.5,\n",
       "                                                       0.8, 0.9, 0.95, 1],\n",
       "                                          'loss': ['log_loss', 'hinge'],\n",
       "                                          'penalty': ['elasticnet', 'l1',\n",
       "                                                      None]},\n",
       "                              scoring='f1_weighted'))])"
      ]
     },
     "execution_count": 21,
     "metadata": {},
     "output_type": "execute_result"
    }
   ],
   "source": [
    "miss_sgd_clf = Pipeline([\n",
    "    ('gridsearch', GridSearchCV(SGDClassifier(random_state=42), param_grid, n_jobs=-1, scoring='f1_weighted'))])\n",
    "miss_sgd_clf.fit(X_train, y_train)\n"
   ]
  },
  {
   "cell_type": "code",
   "execution_count": 22,
   "id": "09867284-1dd9-48fb-9c24-bf33f3b05f4c",
   "metadata": {},
   "outputs": [
    {
     "data": {
      "image/png": "[encoded data removed]",
      "text/plain": [
       "<Figure size 1152x720 with 2 Axes>"
      ]
     },
     "metadata": {
      "needs_background": "light"
     },
     "output_type": "display_data"
    },
    {
     "name": "stdout",
     "output_type": "stream",
     "text": [
      "              precision    recall  f1-score   support\n",
      "\n",
      "           0       0.94      0.70      0.80        43\n",
      "           1       0.68      0.83      0.75       206\n",
      "           2       0.89      0.86      0.88        66\n",
      "           3       0.72      0.75      0.74        73\n",
      "           4       0.70      0.68      0.69       125\n",
      "           5       0.89      0.60      0.72        53\n",
      "           6       0.64      0.51      0.57        67\n",
      "           7       0.88      0.88      0.88        77\n",
      "\n",
      "    accuracy                           0.75       710\n",
      "   macro avg       0.79      0.73      0.75       710\n",
      "weighted avg       0.76      0.75      0.75       710\n",
      "\n"
     ]
    }
   ],
   "source": [
    "plot_confusion_matrix(y_test, miss_sgd_clf.predict(X_test), miss_sgd_clf)\n",
    "print(classification_report(y_test, miss_sgd_clf.predict(X_test))) \n",
    "#Особых резульатов не дало "
   ]
  },
  {
   "cell_type": "code",
   "execution_count": 23,
   "id": "6c26dd74-fced-4965-9f94-386fad2da601",
   "metadata": {},
   "outputs": [],
   "source": [
    "pickle.dump(clf_grid, open('Mtex_clf', \"wb\")) #сохраняем модель с лучшим f-1 "
   ]
  },
  {
   "cell_type": "code",
   "execution_count": 24,
   "id": "52ada6df-9919-4be0-a291-133bb3e36909",
   "metadata": {},
   "outputs": [
    {
     "data": {
      "text/plain": [
       "array([0, 1, 1, 1, 1, 0, 1, 2, 2, 1, 1], dtype=int64)"
      ]
     },
     "execution_count": 24,
     "metadata": {},
     "output_type": "execute_result"
    }
   ],
   "source": [
    "clf_grid.predict(df['lemm'].loc[0:10]) #микротестим на адекватность "
   ]
  },
  {
   "cell_type": "code",
   "execution_count": 25,
   "id": "b66592d9-8a26-4353-a78d-acf118bab24f",
   "metadata": {},
   "outputs": [
    {
     "data": {
      "text/plain": [
       "0     0\n",
       "1     1\n",
       "2     1\n",
       "3     1\n",
       "4     1\n",
       "5     0\n",
       "6     1\n",
       "7     2\n",
       "8     2\n",
       "9     1\n",
       "10    1\n",
       "Name: labels, dtype: int64"
      ]
     },
     "execution_count": 25,
     "metadata": {},
     "output_type": "execute_result"
    }
   ],
   "source": [
    "df['labels'].loc[0:10]"
   ]
  },
  {
   "cell_type": "code",
   "execution_count": null,
   "id": "761f8ffe-1393-40eb-bf67-46ee80b11ef0",
   "metadata": {},
   "outputs": [],
   "source": [
    "'''\n",
    "Выводы: \n",
    "В целом результат удвалитворителен.\n",
    "Из-за несбалансированной выборки точность снижена.\n",
    "Решение:\n",
    "Получить больше данных, и затем применить undersampling методы.\n",
    "Использовать трансформеры для обучения\n",
    "Разбить класс \"Компетентность продавцов/ консультантов\" на более узкие классы \n",
    "'''"
   ]
  }
 ],
 "metadata": {
  "kernelspec": {
   "display_name": "Python (GPU)",
   "language": "python",
   "name": "m-tex"
  },
  "language_info": {
   "codemirror_mode": {
    "name": "ipython",
    "version": 3
   },
   "file_extension": ".py",
   "mimetype": "text/x-python",
   "name": "python",
   "nbconvert_exporter": "python",
   "pygments_lexer": "ipython3",
   "version": "3.10.5"
  }
 },
 "nbformat": 4,
 "nbformat_minor": 5
}
